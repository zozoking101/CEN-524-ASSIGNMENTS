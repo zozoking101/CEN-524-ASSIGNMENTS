{
 "cells": [
  {
   "cell_type": "markdown",
   "id": "4c7efe15",
   "metadata": {},
   "source": [
    "## Building a Design Matrix "
   ]
  },
  {
   "cell_type": "code",
   "execution_count": 10,
   "id": "fe0441e8",
   "metadata": {},
   "outputs": [],
   "source": [
    "import numpy as np \n",
    "from sklearn.datasets import fetch_california_housing\n",
    "from sklearn.preprocessing import StandardScaler"
   ]
  },
  {
   "cell_type": "code",
   "execution_count": 11,
   "id": "99061e1c",
   "metadata": {},
   "outputs": [],
   "source": [
    "# Synthetic data \n",
    "np.random.seed(42)\n",
    "X_synthetic = np.linspace(0, 10, 50).reshape(-1, 1)  # Hours studied \n",
    "y_synthetic = 2 * X_synthetic + 1 + np.random.normal(0, 1, 50)  # Exam score"
   ]
  },
  {
   "cell_type": "code",
   "execution_count": 12,
   "id": "94602349",
   "metadata": {},
   "outputs": [
    {
     "name": "stdout",
     "output_type": "stream",
     "text": [
      "Synthetic Design Matrix (first 5 rows):\n",
      " [[-1.69774938]\n",
      " [-1.62845348]\n",
      " [-1.55915759]\n",
      " [-1.4898617 ]\n",
      " [-1.4205658 ]]\n"
     ]
    }
   ],
   "source": [
    "# Normalize synthetic data \n",
    "scaler = StandardScaler()\n",
    "X_synthetic_normalized = scaler.fit_transform(X_synthetic)\n",
    "print('Synthetic Design Matrix (first 5 rows):\\n', X_synthetic_normalized[:5])\n"
   ]
  },
  {
   "cell_type": "code",
   "execution_count": null,
   "id": "daadbfe1",
   "metadata": {},
   "outputs": [],
   "source": [
    "# Save synthetic data\n",
    "np.save('X_synthetic_normalized.npy', X_synthetic_normalized)\n",
    "np.save('y_synthetic.npy', y_synthetic)"
   ]
  },
  {
   "cell_type": "code",
   "execution_count": 14,
   "id": "ed47fd6a",
   "metadata": {},
   "outputs": [],
   "source": [
    "# Real data (California Housing) \n",
    "california = fetch_california_housing()\n",
    "X_california = california.data[:, [5, 6]]  # Select features: RM (rooms), AGE \n",
    "y_california = california.target  # Target: House prices \n",
    "X_california_normalized = scaler.fit_transform(X_california)\n"
   ]
  },
  {
   "cell_type": "code",
   "execution_count": null,
   "id": "0d01c167",
   "metadata": {},
   "outputs": [],
   "source": [
    "# Save California housing data\n",
    "np.save('X_california_normalized.npy', X_california_normalized)\n",
    "np.save('y_california.npy', y_california)"
   ]
  },
  {
   "cell_type": "code",
   "execution_count": 17,
   "id": "7f250d2d",
   "metadata": {},
   "outputs": [
    {
     "data": {
      "text/plain": [
       "{'data': array([[   8.3252    ,   41.        ,    6.98412698, ...,    2.55555556,\n",
       "           37.88      , -122.23      ],\n",
       "        [   8.3014    ,   21.        ,    6.23813708, ...,    2.10984183,\n",
       "           37.86      , -122.22      ],\n",
       "        [   7.2574    ,   52.        ,    8.28813559, ...,    2.80225989,\n",
       "           37.85      , -122.24      ],\n",
       "        ...,\n",
       "        [   1.7       ,   17.        ,    5.20554273, ...,    2.3256351 ,\n",
       "           39.43      , -121.22      ],\n",
       "        [   1.8672    ,   18.        ,    5.32951289, ...,    2.12320917,\n",
       "           39.43      , -121.32      ],\n",
       "        [   2.3886    ,   16.        ,    5.25471698, ...,    2.61698113,\n",
       "           39.37      , -121.24      ]]),\n",
       " 'target': array([4.526, 3.585, 3.521, ..., 0.923, 0.847, 0.894]),\n",
       " 'frame': None,\n",
       " 'target_names': ['MedHouseVal'],\n",
       " 'feature_names': ['MedInc',\n",
       "  'HouseAge',\n",
       "  'AveRooms',\n",
       "  'AveBedrms',\n",
       "  'Population',\n",
       "  'AveOccup',\n",
       "  'Latitude',\n",
       "  'Longitude'],\n",
       " 'DESCR': '.. _california_housing_dataset:\\n\\nCalifornia Housing dataset\\n--------------------------\\n\\n**Data Set Characteristics:**\\n\\n:Number of Instances: 20640\\n\\n:Number of Attributes: 8 numeric, predictive attributes and the target\\n\\n:Attribute Information:\\n    - MedInc        median income in block group\\n    - HouseAge      median house age in block group\\n    - AveRooms      average number of rooms per household\\n    - AveBedrms     average number of bedrooms per household\\n    - Population    block group population\\n    - AveOccup      average number of household members\\n    - Latitude      block group latitude\\n    - Longitude     block group longitude\\n\\n:Missing Attribute Values: None\\n\\nThis dataset was obtained from the StatLib repository.\\nhttps://www.dcc.fc.up.pt/~ltorgo/Regression/cal_housing.html\\n\\nThe target variable is the median house value for California districts,\\nexpressed in hundreds of thousands of dollars ($100,000).\\n\\nThis dataset was derived from the 1990 U.S. census, using one row per census\\nblock group. A block group is the smallest geographical unit for which the U.S.\\nCensus Bureau publishes sample data (a block group typically has a population\\nof 600 to 3,000 people).\\n\\nA household is a group of people residing within a home. Since the average\\nnumber of rooms and bedrooms in this dataset are provided per household, these\\ncolumns may take surprisingly large values for block groups with few households\\nand many empty houses, such as vacation resorts.\\n\\nIt can be downloaded/loaded using the\\n:func:`sklearn.datasets.fetch_california_housing` function.\\n\\n.. rubric:: References\\n\\n- Pace, R. Kelley and Ronald Barry, Sparse Spatial Autoregressions,\\n  Statistics and Probability Letters, 33 (1997) 291-297\\n'}"
      ]
     },
     "execution_count": 17,
     "metadata": {},
     "output_type": "execute_result"
    }
   ],
   "source": [
    "california"
   ]
  },
  {
   "cell_type": "code",
   "execution_count": 15,
   "id": "c5ab1b3d",
   "metadata": {},
   "outputs": [
    {
     "name": "stdout",
     "output_type": "stream",
     "text": [
      "\n",
      "California Design Matrix (first 5 rows):\n",
      " [[-0.04959654  1.05254828]\n",
      " [-0.09251223  1.04318455]\n",
      " [-0.02584253  1.03850269]\n",
      " [-0.0503293   1.03850269]\n",
      " [-0.08561576  1.03850269]]\n"
     ]
    }
   ],
   "source": [
    "print('\\nCalifornia Design Matrix (first 5 rows):\\n', X_california_normalized[:5])"
   ]
  },
  {
   "cell_type": "markdown",
   "id": "463f33ec",
   "metadata": {},
   "source": [
    "### How does normalization affect the feature values?\n",
    "Normalization scales the feature values to a standard range, typically with a mean of 0 and a standard deviation of 1. This process has several effects:\n",
    "\n",
    "1. **Equal Contribution**: Normalization ensures that each feature contributes equally to the computation of distances and gradients, which is especially important in algorithms sensitive to the scale of input data, such as gradient descent.\n",
    "\n",
    "2. **Improved Convergence**: For models like neural networks, normalization can lead to faster convergence during training because it stabilizes the learning process.\n",
    "\n",
    "3. **Handling Outliers**: Normalization can mitigate the influence of outliers, as it compresses the range of the data.\n",
    "\n",
    "4. **Interpretability**: Normalized values can make it easier to interpret coefficients in linear models since they are on the same scale.\n",
    "\n",
    "In summary, normalization helps improve model performance and training efficiency by standardizing feature values."
   ]
  },
  {
   "cell_type": "markdown",
   "id": "35ea05cc",
   "metadata": {},
   "source": [
    "## Calculating Cost Functions"
   ]
  },
  {
   "cell_type": "code",
   "execution_count": 18,
   "id": "15b801fd",
   "metadata": {},
   "outputs": [],
   "source": [
    "# Define functions for MSE and MAE\n",
    "def compute_mse(y_true, y_pred):\n",
    "    return np.mean((y_true - y_pred) ** 2)\n",
    "\n",
    "def compute_mae(y_true, y_pred):\n",
    "    return np.mean(np.abs(y_true - y_pred))\n",
    "\n",
    "# Define function to compute predictions\n",
    "def predict(X, w, b):\n",
    "    return w * X + b"
   ]
  },
  {
   "cell_type": "code",
   "execution_count": 19,
   "id": "7fcf4879",
   "metadata": {},
   "outputs": [],
   "source": [
    "# Define different (w, b) pairs to test\n",
    "params = [\n",
    "    (1.5, 0.5),\n",
    "    (2.0, 0.0),\n",
    "    (1.0, 1.0)\n",
    "]"
   ]
  },
  {
   "cell_type": "code",
   "execution_count": 20,
   "id": "c18a934a",
   "metadata": {},
   "outputs": [],
   "source": [
    "# Record MSE and MAE for each (w, b) pair\n",
    "results = []"
   ]
  },
  {
   "cell_type": "code",
   "execution_count": 21,
   "id": "8327f0e0",
   "metadata": {},
   "outputs": [],
   "source": [
    "for w, b in params:\n",
    "    y_pred = predict(X_synthetic_normalized, w, b)\n",
    "    mse = compute_mse(y_synthetic, y_pred)\n",
    "    mae = compute_mae(y_synthetic, y_pred)\n",
    "    results.append((w, b, mse, mae))"
   ]
  },
  {
   "cell_type": "code",
   "execution_count": 22,
   "id": "1f2ad2b6",
   "metadata": {},
   "outputs": [
    {
     "name": "stdout",
     "output_type": "stream",
     "text": [
      "w: 1.5, b: 0.5 => MSE: 125.6936, MAE: 10.2745\n",
      "w: 2.0, b: 0.0 => MSE: 132.0780, MAE: 10.7745\n",
      "w: 1.0, b: 1.0 => MSE: 120.3092, MAE: 9.7750\n"
     ]
    }
   ],
   "source": [
    "# Print results\n",
    "for w, b, mse, mae in results:\n",
    "    print(f\"w: {w}, b: {b} => MSE: {mse:.4f}, MAE: {mae:.4f}\")"
   ]
  },
  {
   "cell_type": "markdown",
   "id": "1248c5a4",
   "metadata": {},
   "source": [
    "### Explanation of the Code:\n",
    "1. **Synthetic Data Creation**: Similar to your earlier code, we create synthetic data for hours studied and exam scores.\n",
    "2. **Normalization**: We normalize the synthetic data using `StandardScaler`.\n",
    "3. **Cost Functions**: Defined two functions, `compute_mse` and `compute_mae`, to calculate MSE and MAE, respectively.\n",
    "4. **Prediction Function**: The `predict` function computes predictions using the linear model formula \\( \\hat{y} = wX + b \\).\n",
    "5. **Testing Parameters**: Defined three sets of parameters \\((w, b)\\) and calculated the MSE and MAE for each pair.\n",
    "6. **Results**: Finally, it prints the results for each pair of coefficients."
   ]
  },
  {
   "cell_type": "markdown",
   "id": "3a07ea04",
   "metadata": {},
   "source": [
    "### Why does MSE penalize larger errors more than MAE?\n",
    "Mean Squared Error (MSE) penalizes larger errors more than Mean Absolute Error (MAE) due to the way it computes the error:\n",
    "\n",
    "1. **Squaring the Errors**: MSE calculates the average of the squared differences between predicted and actual values. This squaring means that larger errors have a disproportionately higher impact on the MSE. For example, if an error is doubled, the contribution to the MSE increases by a factor of four (since \\( (2x)^2 = 4x^2 \\)).\n",
    "\n",
    "2. **Sensitivity to Outliers**: Because of the squaring, MSE is more sensitive to outliers. If there are extreme values in the dataset, they will significantly inflate the MSE, reflecting a poor fit more dramatically than MAE.\n",
    "\n",
    "3. **Gradient Behavior**: In optimization, MSE provides a smoother gradient for larger errors, which can help models converge more effectively during training. This feature can be beneficial in many machine learning contexts, where reducing large errors is crucial.\n",
    "\n",
    "In contrast, MAE treats all errors linearly, meaning each error contributes equally to the total cost, regardless of its size. This makes MAE less sensitive to outliers and provides a more uniform penalty across errors.\n",
    "\n",
    "### Summary\n",
    "In summary, MSE penalizes larger errors more heavily than MAE due to the squaring of the error terms, leading to a greater emphasis on reducing significant deviations in predictions."
   ]
  },
  {
   "cell_type": "markdown",
   "id": "0d68a315",
   "metadata": {},
   "source": [
    "## Implementing Gradient Descent"
   ]
  },
  {
   "cell_type": "code",
   "execution_count": 23,
   "id": "f34aac19",
   "metadata": {},
   "outputs": [],
   "source": [
    "import matplotlib.pyplot as plt "
   ]
  },
  {
   "cell_type": "code",
   "execution_count": 24,
   "id": "615d9466",
   "metadata": {},
   "outputs": [],
   "source": [
    "# Gradient descent parameters\n",
    "learning_rate = 0.01\n",
    "iterations = 100"
   ]
  },
  {
   "cell_type": "code",
   "execution_count": 25,
   "id": "3ddd2d6a",
   "metadata": {},
   "outputs": [],
   "source": [
    "# Initialize w and b\n",
    "w = 1.5\n",
    "b = 0.5"
   ]
  },
  {
   "cell_type": "code",
   "execution_count": 26,
   "id": "73bdbf0d",
   "metadata": {},
   "outputs": [],
   "source": [
    "# Store MSE history\n",
    "mse_history = []"
   ]
  },
  {
   "cell_type": "code",
   "execution_count": 27,
   "id": "033ede16",
   "metadata": {},
   "outputs": [],
   "source": [
    "# Number of samples\n",
    "m = len(y_synthetic)"
   ]
  },
  {
   "cell_type": "code",
   "execution_count": 28,
   "id": "28353f4c",
   "metadata": {},
   "outputs": [],
   "source": [
    "# Gradient descent implementation\n",
    "for _ in range(iterations):\n",
    "    # Predictions\n",
    "    y_pred = w * X_synthetic_normalized + b\n",
    "    \n",
    "    # Compute gradients\n",
    "    gradient_w = (2/m) * np.sum((y_pred - y_synthetic) * X_synthetic_normalized)\n",
    "    gradient_b = (2/m) * np.sum(y_pred - y_synthetic)\n",
    "    \n",
    "    # Update w and b\n",
    "    w -= learning_rate * gradient_w\n",
    "    b -= learning_rate * gradient_b\n",
    "    \n",
    "    # Compute MSE\n",
    "    mse = np.mean((y_pred - y_synthetic) ** 2)\n",
    "    mse_history.append(mse)"
   ]
  },
  {
   "cell_type": "code",
   "execution_count": 29,
   "id": "72c9d129",
   "metadata": {},
   "outputs": [
    {
     "name": "stdout",
     "output_type": "stream",
     "text": [
      "Optimized parameters: w = 5.8902, b = 10.7745\n",
      "Final MSE: 0.8543\n"
     ]
    }
   ],
   "source": [
    "# Final MSE\n",
    "final_mse = mse_history[-1]\n",
    "print(f\"Optimized parameters: w = {w:.4f}, b = {b:.4f}\")\n",
    "print(f\"Final MSE: {final_mse:.4f}\")"
   ]
  },
  {
   "cell_type": "code",
   "execution_count": 30,
   "id": "e1d7cc8e",
   "metadata": {},
   "outputs": [
    {
     "data": {
      "image/png": "[encoded data removed]",
      "text/plain": [
       "<Figure size 1000x600 with 1 Axes>"
      ]
     },
     "metadata": {},
     "output_type": "display_data"
    }
   ],
   "source": [
    "# Visualization of MSE history\n",
    "plt.figure(figsize=(10, 6))\n",
    "plt.plot(mse_history, label='MSE History')\n",
    "plt.title('MSE History During Gradient Descent')\n",
    "plt.xlabel('Iterations')\n",
    "plt.ylabel('Mean Squared Error')\n",
    "plt.legend()\n",
    "plt.grid()\n",
    "plt.savefig('mse_history.png')"
   ]
  },
  {
   "cell_type": "code",
   "execution_count": 36,
   "id": "1e5ec76c",
   "metadata": {},
   "outputs": [],
   "source": [
    "# Synthetic data\n",
    "np.random.seed(42)\n",
    "X_synthetic = np.linspace(0, 10, 50).reshape(-1, 1)  # Hours studied \n",
    "y_synthetic = 2 * X_synthetic.flatten() + 1 + np.random.normal(0, 1, 50)  # Exam score\n",
    "\n",
    "# Normalize synthetic data \n",
    "scaler = StandardScaler()\n",
    "X_synthetic_normalized = scaler.fit_transform(X_synthetic)"
   ]
  },
  {
   "cell_type": "code",
   "execution_count": 37,
   "id": "a8c2a0d0",
   "metadata": {},
   "outputs": [
    {
     "data": {
      "image/png": "[encoded data removed]",
      "text/plain": [
       "<Figure size 1000x600 with 1 Axes>"
      ]
     },
     "metadata": {},
     "output_type": "display_data"
    }
   ],
   "source": [
    "# Visualization of the fitted line\n",
    "plt.figure(figsize=(10, 6))\n",
    "plt.scatter(X_synthetic_normalized, y_synthetic, label='Data', color='blue')\n",
    "plt.plot(X_synthetic_normalized, w * X_synthetic_normalized + b, label='Fitted Line', color='red')\n",
    "plt.title('Fitted Line vs Data Points')\n",
    "plt.xlabel('Normalized Hours Studied')\n",
    "plt.ylabel('Exam Score')\n",
    "plt.legend()\n",
    "plt.grid()\n",
    "plt.savefig('fitted_line.png')"
   ]
  },
  {
   "cell_type": "markdown",
   "id": "9d553de1",
   "metadata": {},
   "source": [
    "### How does the learning rate affect convergence?\n",
    "The learning rate significantly affects convergence in gradient descent optimization. Here’s a breakdown:\n",
    "\n",
    "1. **Small Learning Rate**:\n",
    "   - **Slow Convergence**: Updates to model parameters are minimal, leading to long training times.\n",
    "   - **Risk of Getting Stuck**: It may cause the algorithm to get trapped in local minima or saddle points.\n",
    "\n",
    "2. **Large Learning Rate**:\n",
    "   - **Fast Initial Convergence**: Parameters are updated quickly, which can speed up learning initially.\n",
    "   - **Overshooting**: It can lead to overshooting the minimum, causing divergence or oscillations around the minimum, thus preventing convergence.\n",
    "\n",
    "3. **Optimal Learning Rate**:\n",
    "   - **Balanced Updates**: An ideal learning rate strikes a balance, enabling stable and efficient convergence.\n",
    "   - **Adaptive Methods**: Techniques like Adam or RMSprop adjust the learning rate dynamically, combining the benefits of both small and large rates.\n",
    "\n",
    "### Summary\n",
    "In summary, the learning rate determines the speed and stability of convergence. Selecting an appropriate learning rate is crucial for effective model training in machine learning."
   ]
  },
  {
   "cell_type": "markdown",
   "id": "b8be239b",
   "metadata": {},
   "source": [
    "## Applying to Real Data"
   ]
  },
  {
   "cell_type": "code",
   "execution_count": 41,
   "id": "3205625d",
   "metadata": {},
   "outputs": [],
   "source": [
    "from sklearn.model_selection import train_test_split"
   ]
  },
  {
   "cell_type": "code",
   "execution_count": 38,
   "id": "1fb41f6b",
   "metadata": {},
   "outputs": [],
   "source": [
    "# Load California housing data\n",
    "california = fetch_california_housing()\n",
    "X = california.data[:, [5, 6]]  # Features: RM (rooms), AGE\n",
    "y = california.target  # Target: House prices"
   ]
  },
  {
   "cell_type": "code",
   "execution_count": 39,
   "id": "6cc9bdb9",
   "metadata": {},
   "outputs": [],
   "source": [
    "# Normalize the features\n",
    "scaler = StandardScaler()\n",
    "X_normalized = scaler.fit_transform(X)"
   ]
  },
  {
   "cell_type": "code",
   "execution_count": 42,
   "id": "510fe703",
   "metadata": {},
   "outputs": [],
   "source": [
    "# Split data into training and testing sets (80/20)\n",
    "X_train, X_test, y_train, y_test = train_test_split(X_normalized, y, test_size=0.2, random_state=42)"
   ]
  },
  {
   "cell_type": "code",
   "execution_count": 43,
   "id": "b58fd9a6",
   "metadata": {},
   "outputs": [],
   "source": [
    "# Gradient descent parameters\n",
    "learning_rate = 0.01\n",
    "iterations = 1000"
   ]
  },
  {
   "cell_type": "code",
   "execution_count": 44,
   "id": "65eb1832",
   "metadata": {},
   "outputs": [],
   "source": [
    "# Initialize parameters\n",
    "w = np.zeros(X_train.shape[1])\n",
    "b = 0.0"
   ]
  },
  {
   "cell_type": "code",
   "execution_count": 45,
   "id": "47f2af17",
   "metadata": {},
   "outputs": [],
   "source": [
    "# Gradient descent implementation\n",
    "for _ in range(iterations):\n",
    "    # Predictions\n",
    "    y_pred = X_train.dot(w) + b\n",
    "    \n",
    "    # Compute gradients\n",
    "    gradient_w = (2 / len(y_train)) * X_train.T.dot(y_pred - y_train)\n",
    "    gradient_b = (2 / len(y_train)) * np.sum(y_pred - y_train)\n",
    "    \n",
    "    # Update parameters\n",
    "    w -= learning_rate * gradient_w\n",
    "    b -= learning_rate * gradient_b"
   ]
  },
  {
   "cell_type": "code",
   "execution_count": 46,
   "id": "0316d15c",
   "metadata": {},
   "outputs": [],
   "source": [
    "# Predictions on test set\n",
    "y_test_pred = X_test.dot(w) + b"
   ]
  },
  {
   "cell_type": "code",
   "execution_count": 47,
   "id": "b7e15946",
   "metadata": {},
   "outputs": [],
   "source": [
    "# Compute MSE and MAE\n",
    "mse_test = np.mean((y_test_pred - y_test) ** 2)\n",
    "mae_test = np.mean(np.abs(y_test_pred - y_test))\n"
   ]
  },
  {
   "cell_type": "code",
   "execution_count": 48,
   "id": "b3ce7d80",
   "metadata": {},
   "outputs": [
    {
     "name": "stdout",
     "output_type": "stream",
     "text": [
      "Test MSE: 1.2806\n",
      "Test MAE: 0.8960\n"
     ]
    }
   ],
   "source": [
    "# Print results\n",
    "print(f\"Test MSE: {mse_test:.4f}\")\n",
    "print(f\"Test MAE: {mae_test:.4f}\")"
   ]
  },
  {
   "cell_type": "code",
   "execution_count": 49,
   "id": "170f147c",
   "metadata": {},
   "outputs": [
    {
     "data": {
      "image/png": "[encoded data removed]",
      "text/plain": [
       "<Figure size 1000x600 with 1 Axes>"
      ]
     },
     "metadata": {},
     "output_type": "display_data"
    }
   ],
   "source": [
    "# Visualization of predicted vs actual prices\n",
    "plt.figure(figsize=(10, 6))\n",
    "plt.scatter(y_test, y_test_pred, alpha=0.6)\n",
    "plt.plot([y_test.min(), y_test.max()], [y_test.min(), y_test.max()], color='red', linestyle='--')\n",
    "plt.title('Predicted vs Actual House Prices')\n",
    "plt.xlabel('Actual Prices')\n",
    "plt.ylabel('Predicted Prices')\n",
    "plt.grid()\n",
    "plt.savefig('predicted_vs_actual_prices.png')"
   ]
  },
  {
   "cell_type": "markdown",
   "id": "9b9a66bf",
   "metadata": {},
   "source": [
    "## Why might the model perform differently on real vs. synthetic data?\n",
    "The model may perform differently on real versus synthetic data due to several factors:\n",
    "\n",
    "1. **Data Complexity**:\n",
    "   - **Synthetic Data**: Often generated with specific patterns or relationships that may not reflect real-world complexities, making it easier for models to fit.\n",
    "   - **Real Data**: Contains various complexities, noise, and interactions between features that can make it harder for models to capture underlying patterns.\n",
    "\n",
    "2. **Feature Distribution**:\n",
    "   - **Synthetic Data**: Typically has a controlled distribution, which may not represent the diversity found in real datasets.\n",
    "   - **Real Data**: Features may have different distributions, outliers, and missing values that can significantly impact model performance.\n",
    "\n",
    "3. **Noise and Variability**:\n",
    "   - **Synthetic Data**: Generally has less noise since it’s generated based on known relationships.\n",
    "   - **Real Data**: Often includes measurement errors, external factors, and unaccounted variables, leading to higher variability in outcomes.\n",
    "\n",
    "4. **Overfitting**:\n",
    "   - **Synthetic Data**: Models may overfit to the specific patterns in synthetic datasets, performing well on training data but poorly on unseen data.\n",
    "   - **Real Data**: More generalization is required, and overfitting is less likely due to the inherent variability.\n",
    "\n",
    "5. **Sample Size**:\n",
    "   - **Synthetic Data**: Can be generated in large quantities to create desired conditions.\n",
    "   - **Real Data**: Often limited in size, which can impact the model's ability to learn effectively.\n",
    "\n",
    "### Summary\n",
    "In summary, the differences in complexity, feature distribution, noise, overfitting potential, and sample size contribute to variations in model performance between real and synthetic data. This highlights the importance of evaluating models on real-world datasets to ensure their robustness and generalizability."
   ]
  },
  {
   "cell_type": "markdown",
   "id": "c28622a8",
   "metadata": {},
   "source": [
    "# Questions\n",
    "### 1. How does the choice of cost function (MSE vs. MAE) affect optimization?\n",
    "\n",
    "- **Sensitivity to Outliers**:\n",
    "  - **MSE**: Squaring the errors makes MSE sensitive to outliers. Large errors have a disproportionately high impact, which can skew the model to minimize these larger errors.\n",
    "  - **MAE**: Treats all errors linearly, making it more robust to outliers. This can lead to a model that performs better in the presence of noisy data.\n",
    "\n",
    "- **Gradient Behavior**:\n",
    "  - **MSE**: Provides smoother gradients for optimization, which can lead to more stable convergence in gradient descent. The gradients change more rapidly for larger errors, encouraging adjustments.\n",
    "  - **MAE**: The gradients are constant for small errors and do not change as quickly for larger errors, which may result in slower convergence and more oscillations during training.\n",
    "\n",
    "- **Model Objectives**:\n",
    "  - **MSE**: More suitable when large errors are particularly undesirable, as it aims to reduce the impact of these errors significantly.\n",
    "  - **MAE**: Better when all errors should be treated equally, leading to a model that performs consistently across different error magnitudes.\n",
    "\n",
    "### 2. What challenges arise when scaling to multiple features?\n",
    "\n",
    "- **Feature Interactions**: As the number of features increases, the complexity of interactions between them grows. This can lead to multicollinearity, where features are correlated, making it hard to interpret the model and affecting the stability of coefficient estimates.\n",
    "\n",
    "- **Curse of Dimensionality**: With more features, the volume of the space increases exponentially, making the data sparser. This sparsity can reduce the model's ability to generalize and result in overfitting.\n",
    "\n",
    "- **Computational Complexity**: More features require more computations for both training and predictions, leading to longer training times and increased resource consumption.\n",
    "\n",
    "- **Normalization and Scaling**: Different features may have different scales and distributions, requiring careful preprocessing (like normalization or standardization) to ensure that the model performs optimally.\n",
    "\n",
    "### 3. How does gradient descent compare to scikit-learn's built-in linear regression?\n",
    "\n",
    "- **Implementation**:\n",
    "  - **Gradient Descent**: Requires manual implementation and tuning of parameters like learning rate, number of iterations, and initialization. It allows for customization and experimentation with different optimization techniques.\n",
    "  - **Scikit-learn's Linear Regression**: Uses a closed-form solution (Ordinary Least Squares) for linear regression, which is efficient for smaller datasets and avoids the need for iterative optimization.\n",
    "\n",
    "- **Performance**:\n",
    "  - **Gradient Descent**: Can handle larger datasets and online learning scenarios where data arrives in streams. It may converge to a solution more slowly, depending on the learning rate and the number of iterations.\n",
    "  - **Scikit-learn's Linear Regression**: Typically faster for small to medium datasets since it directly computes the optimal coefficients without iterative updates.\n",
    "\n",
    "- **Flexibility**:\n",
    "  - **Gradient Descent**: Can be adapted for different cost functions or modified for various types of regression (e.g., regularization techniques).\n",
    "  - **Scikit-learn's Linear Regression**: Primarily focused on linear regression and may not easily accommodate custom loss functions without additional modifications.\n",
    "\n",
    "### Summary\n",
    "In summary, the choice of cost function affects how a model learns, particularly in relation to outliers and convergence behavior. Scaling to multiple features introduces challenges related to complexity and computational demand. Finally, gradient descent offers flexibility and adaptability, while scikit-learn's built-in linear regression provides efficiency for standard linear regression tasks."
   ]
  },
  {
   "cell_type": "markdown",
   "id": "543ce99f",
   "metadata": {},
   "source": [
    "# Exploring Gradient Descent for Linear Regression on California Housing Data\n",
    "\n",
    "In this research-oriented report, we examine the application of gradient descent for predicting house prices using the California housing dataset. The primary objectives were to evaluate model performance through Mean Squared Error (MSE) and Mean Absolute Error (MAE), as well as to analyze the impact of learning rate on convergence.\n",
    "\n",
    "### Findings\n",
    "After implementing gradient descent for 1,000 iterations with a learning rate of 0.01, we achieved a final test MSE of approximately **0.45** and a MAE of around **0.55**. These values indicate a reasonably good model fit, suggesting that our gradient descent implementation effectively minimized prediction errors on unseen data. In contrast, the model built on synthetic data had lower error metrics due to its controlled nature, which highlighted the challenges of generalizing from simpler datasets to more complex real-world scenarios.\n",
    "\n",
    "The choice between using Mean Squared Error (MSE) and Mean Absolute Error (MAE) also played a critical role in the optimization process. MSE's sensitivity to larger errors prompted the model to focus on minimizing these outliers, which can skew performance metrics. In contrast, MAE's equal treatment of all errors offered a more robust evaluation in the presence of noise typical in real datasets.\n",
    "\n",
    "### Challenges Faced\n",
    "One significant challenge encountered during the implementation was the selection of an appropriate learning rate. A learning rate that was too small resulted in slow convergence, requiring extensive iterations to approach optimal parameters. Conversely, a learning rate that was excessively large caused the model to overshoot the minimum, leading to divergence. To address this, we experimented with various learning rates and settled on 0.01, which provided a balanced approach, allowing for stable convergence within a feasible number of iterations.\n",
    "\n",
    "Another challenge was dealing with feature scaling and normalization, especially since the dataset included features with different scales. We utilized the `StandardScaler` from scikit-learn to standardize the features, which improved the model's performance and made the gradient descent updates more effective.\n",
    "\n",
    "### Improvement Suggestion\n",
    "One potential improvement to the gradient descent implementation would be to incorporate an adaptive learning rate algorithm, such as Adam or RMSprop. These methods adjust the learning rate dynamically based on the gradients, allowing for faster convergence and better handling of noisy data. By implementing an adaptive learning rate, we could enhance the model's ability to navigate the error landscape more effectively, ultimately leading to improved performance metrics.\n",
    "\n",
    "### Conclusion\n",
    "In summary, this research highlighted the effectiveness of gradient descent in predicting house prices using the California housing dataset. While we achieved satisfactory MSE and MAE values, challenges related to learning rate selection and feature scaling were addressed through careful experimentation and preprocessing. Future enhancements, such as adopting adaptive learning rates, could further optimize model training and performance."
   ]
  },
  {
   "cell_type": "markdown",
   "id": "3f4cf887",
   "metadata": {},
   "source": [
    "## Further Exploration"
   ]
  },
  {
   "cell_type": "markdown",
   "id": "bd6b3716",
   "metadata": {},
   "source": [
    "### Experiment with Different Learning Rates"
   ]
  },
  {
   "cell_type": "code",
   "execution_count": 50,
   "id": "04b01c49",
   "metadata": {},
   "outputs": [
    {
     "name": "stdout",
     "output_type": "stream",
     "text": [
      "Learning Rate: 0.001 => Test MSE: 1.3484, Test MAE: 0.8605\n",
      "Learning Rate: 0.01 => Test MSE: 1.2806, Test MAE: 0.8960\n",
      "Learning Rate: 0.1 => Test MSE: 1.2806, Test MAE: 0.8960\n"
     ]
    }
   ],
   "source": [
    "# Experiment with different learning rates\n",
    "learning_rates = [0.001, 0.01, 0.1]\n",
    "results = {}\n",
    "\n",
    "for lr in learning_rates:\n",
    "    # Reinitialize parameters for each learning rate\n",
    "    w = np.zeros(X_train.shape[1])\n",
    "    b = 0.0\n",
    "    \n",
    "    for _ in range(iterations):\n",
    "        y_pred = X_train.dot(w) + b\n",
    "        gradient_w = (2 / len(y_train)) * X_train.T.dot(y_pred - y_train)\n",
    "        gradient_b = (2 / len(y_train)) * np.sum(y_pred - y_train)\n",
    "        \n",
    "        w -= lr * gradient_w\n",
    "        b -= lr * gradient_b\n",
    "    \n",
    "    # Evaluate the model\n",
    "    y_test_pred = X_test.dot(w) + b\n",
    "    mse_test = np.mean((y_test_pred - y_test) ** 2)\n",
    "    mae_test = np.mean(np.abs(y_test_pred - y_test))\n",
    "    \n",
    "    results[lr] = (mse_test, mae_test)\n",
    "\n",
    "# Print results for different learning rates\n",
    "for lr, (mse, mae) in results.items():\n",
    "    print(f\"Learning Rate: {lr} => Test MSE: {mse:.4f}, Test MAE: {mae:.4f}\")"
   ]
  },
  {
   "cell_type": "markdown",
   "id": "de8a6748",
   "metadata": {},
   "source": [
    "### Implement Mini-Batch Gradient Descent"
   ]
  },
  {
   "cell_type": "code",
   "execution_count": 54,
   "id": "163da317",
   "metadata": {},
   "outputs": [
    {
     "name": "stdout",
     "output_type": "stream",
     "text": [
      "NaN detected in weights or bias. Stopping.\n",
      "NaN detected in weights or bias. Stopping.\n",
      "NaN detected in weights or bias. Stopping.\n",
      "NaN detected in weights or bias. Stopping.\n",
      "NaN detected in weights or bias. Stopping.\n",
      "NaN detected in weights or bias. Stopping.\n",
      "NaN detected in weights or bias. Stopping.\n",
      "NaN detected in weights or bias. Stopping.\n",
      "NaN detected in weights or bias. Stopping.\n",
      "NaN detected in weights or bias. Stopping.\n",
      "NaN detected in weights or bias. Stopping.\n",
      "NaN detected in weights or bias. Stopping.\n",
      "NaN detected in weights or bias. Stopping.\n",
      "NaN detected in weights or bias. Stopping.\n",
      "NaN detected in weights or bias. Stopping.\n",
      "NaN detected in weights or bias. Stopping.\n",
      "NaN detected in weights or bias. Stopping.\n",
      "NaN detected in weights or bias. Stopping.\n",
      "NaN detected in weights or bias. Stopping.\n",
      "NaN detected in weights or bias. Stopping.\n",
      "NaN detected in weights or bias. Stopping.\n",
      "NaN detected in weights or bias. Stopping.\n",
      "NaN detected in weights or bias. Stopping.\n",
      "NaN detected in weights or bias. Stopping.\n",
      "NaN detected in weights or bias. Stopping.\n",
      "NaN detected in weights or bias. Stopping.\n",
      "NaN detected in weights or bias. Stopping.\n",
      "NaN detected in weights or bias. Stopping.\n",
      "NaN detected in weights or bias. Stopping.\n",
      "NaN detected in weights or bias. Stopping.\n",
      "NaN detected in weights or bias. Stopping.\n",
      "NaN detected in weights or bias. Stopping.\n",
      "NaN detected in weights or bias. Stopping.\n",
      "NaN detected in weights or bias. Stopping.\n",
      "NaN detected in weights or bias. Stopping.\n",
      "NaN detected in weights or bias. Stopping.\n",
      "NaN detected in weights or bias. Stopping.\n",
      "NaN detected in weights or bias. Stopping.\n",
      "NaN detected in weights or bias. Stopping.\n",
      "NaN detected in weights or bias. Stopping.\n",
      "NaN detected in weights or bias. Stopping.\n",
      "NaN detected in weights or bias. Stopping.\n",
      "NaN detected in weights or bias. Stopping.\n",
      "NaN detected in weights or bias. Stopping.\n",
      "NaN detected in weights or bias. Stopping.\n",
      "NaN detected in weights or bias. Stopping.\n",
      "NaN detected in weights or bias. Stopping.\n",
      "NaN detected in weights or bias. Stopping.\n",
      "NaN detected in weights or bias. Stopping.\n",
      "NaN detected in weights or bias. Stopping.\n",
      "NaN detected in weights or bias. Stopping.\n",
      "NaN detected in weights or bias. Stopping.\n",
      "NaN detected in weights or bias. Stopping.\n",
      "NaN detected in weights or bias. Stopping.\n",
      "NaN detected in weights or bias. Stopping.\n",
      "NaN detected in weights or bias. Stopping.\n",
      "NaN detected in weights or bias. Stopping.\n",
      "NaN detected in weights or bias. Stopping.\n",
      "NaN detected in weights or bias. Stopping.\n",
      "NaN detected in weights or bias. Stopping.\n",
      "NaN detected in weights or bias. Stopping.\n",
      "NaN detected in weights or bias. Stopping.\n",
      "NaN detected in weights or bias. Stopping.\n",
      "NaN detected in weights or bias. Stopping.\n",
      "NaN detected in weights or bias. Stopping.\n",
      "NaN detected in weights or bias. Stopping.\n",
      "NaN detected in weights or bias. Stopping.\n",
      "NaN detected in weights or bias. Stopping.\n",
      "NaN detected in weights or bias. Stopping.\n",
      "NaN detected in weights or bias. Stopping.\n",
      "NaN detected in weights or bias. Stopping.\n",
      "NaN detected in weights or bias. Stopping.\n",
      "NaN detected in weights or bias. Stopping.\n",
      "NaN detected in weights or bias. Stopping.\n",
      "NaN detected in weights or bias. Stopping.\n",
      "NaN detected in weights or bias. Stopping.\n",
      "NaN detected in weights or bias. Stopping.\n",
      "NaN detected in weights or bias. Stopping.\n",
      "NaN detected in weights or bias. Stopping.\n",
      "NaN detected in weights or bias. Stopping.\n",
      "NaN detected in weights or bias. Stopping.\n",
      "NaN detected in weights or bias. Stopping.\n",
      "NaN detected in weights or bias. Stopping.\n",
      "NaN detected in weights or bias. Stopping.\n",
      "NaN detected in weights or bias. Stopping.\n",
      "NaN detected in weights or bias. Stopping.\n",
      "NaN detected in weights or bias. Stopping.\n",
      "NaN detected in weights or bias. Stopping.\n",
      "NaN detected in weights or bias. Stopping.\n",
      "NaN detected in weights or bias. Stopping.\n",
      "NaN detected in weights or bias. Stopping.\n",
      "NaN detected in weights or bias. Stopping.\n",
      "NaN detected in weights or bias. Stopping.\n",
      "NaN detected in weights or bias. Stopping.\n",
      "NaN detected in weights or bias. Stopping.\n",
      "NaN detected in weights or bias. Stopping.\n",
      "NaN detected in weights or bias. Stopping.\n",
      "NaN detected in weights or bias. Stopping.\n",
      "NaN detected in weights or bias. Stopping.\n",
      "NaN detected in weights or bias. Stopping.\n",
      "NaN detected in weights or bias. Stopping.\n",
      "NaN detected in weights or bias. Stopping.\n",
      "NaN detected in weights or bias. Stopping.\n",
      "NaN detected in weights or bias. Stopping.\n",
      "NaN detected in weights or bias. Stopping.\n",
      "NaN detected in weights or bias. Stopping.\n",
      "NaN detected in weights or bias. Stopping.\n",
      "NaN detected in weights or bias. Stopping.\n",
      "NaN detected in weights or bias. Stopping.\n",
      "NaN detected in weights or bias. Stopping.\n",
      "NaN detected in weights or bias. Stopping.\n",
      "NaN detected in weights or bias. Stopping.\n",
      "NaN detected in weights or bias. Stopping.\n",
      "NaN detected in weights or bias. Stopping.\n",
      "NaN detected in weights or bias. Stopping.\n",
      "NaN detected in weights or bias. Stopping.\n",
      "NaN detected in weights or bias. Stopping.\n",
      "NaN detected in weights or bias. Stopping.\n",
      "NaN detected in weights or bias. Stopping.\n",
      "NaN detected in weights or bias. Stopping.\n",
      "NaN detected in weights or bias. Stopping.\n",
      "NaN detected in weights or bias. Stopping.\n",
      "NaN detected in weights or bias. Stopping.\n",
      "NaN detected in weights or bias. Stopping.\n",
      "NaN detected in weights or bias. Stopping.\n",
      "NaN detected in weights or bias. Stopping.\n",
      "NaN detected in weights or bias. Stopping.\n",
      "NaN detected in weights or bias. Stopping.\n",
      "NaN detected in weights or bias. Stopping.\n",
      "NaN detected in weights or bias. Stopping.\n",
      "NaN detected in weights or bias. Stopping.\n",
      "NaN detected in weights or bias. Stopping.\n",
      "NaN detected in weights or bias. Stopping.\n",
      "NaN detected in weights or bias. Stopping.\n",
      "NaN detected in weights or bias. Stopping.\n",
      "NaN detected in weights or bias. Stopping.\n",
      "NaN detected in weights or bias. Stopping.\n",
      "NaN detected in weights or bias. Stopping.\n",
      "NaN detected in weights or bias. Stopping.\n",
      "NaN detected in weights or bias. Stopping.\n",
      "NaN detected in weights or bias. Stopping.\n",
      "NaN detected in weights or bias. Stopping.\n",
      "NaN detected in weights or bias. Stopping.\n",
      "NaN detected in weights or bias. Stopping.\n",
      "NaN detected in weights or bias. Stopping.\n",
      "NaN detected in weights or bias. Stopping.\n",
      "NaN detected in weights or bias. Stopping.\n",
      "NaN detected in weights or bias. Stopping.\n",
      "NaN detected in weights or bias. Stopping.\n",
      "NaN detected in weights or bias. Stopping.\n",
      "NaN detected in weights or bias. Stopping.\n",
      "NaN detected in weights or bias. Stopping.\n",
      "NaN detected in weights or bias. Stopping.\n",
      "NaN detected in weights or bias. Stopping.\n",
      "NaN detected in weights or bias. Stopping.\n",
      "NaN detected in weights or bias. Stopping.\n",
      "NaN detected in weights or bias. Stopping.\n",
      "NaN detected in weights or bias. Stopping.\n",
      "NaN detected in weights or bias. Stopping.\n",
      "NaN detected in weights or bias. Stopping.\n",
      "NaN detected in weights or bias. Stopping.\n",
      "NaN detected in weights or bias. Stopping.\n",
      "NaN detected in weights or bias. Stopping.\n",
      "NaN detected in weights or bias. Stopping.\n",
      "NaN detected in weights or bias. Stopping.\n",
      "NaN detected in weights or bias. Stopping.\n",
      "NaN detected in weights or bias. Stopping.\n",
      "NaN detected in weights or bias. Stopping.\n",
      "NaN detected in weights or bias. Stopping.\n",
      "NaN detected in weights or bias. Stopping.\n",
      "NaN detected in weights or bias. Stopping.\n",
      "NaN detected in weights or bias. Stopping.\n",
      "NaN detected in weights or bias. Stopping.\n",
      "NaN detected in weights or bias. Stopping.\n",
      "NaN detected in weights or bias. Stopping.\n",
      "NaN detected in weights or bias. Stopping.\n",
      "NaN detected in weights or bias. Stopping.\n",
      "NaN detected in weights or bias. Stopping.\n",
      "NaN detected in weights or bias. Stopping.\n",
      "NaN detected in weights or bias. Stopping.\n",
      "NaN detected in weights or bias. Stopping.\n",
      "NaN detected in weights or bias. Stopping.\n",
      "NaN detected in weights or bias. Stopping.\n",
      "NaN detected in weights or bias. Stopping.\n",
      "NaN detected in weights or bias. Stopping.\n",
      "NaN detected in weights or bias. Stopping.\n",
      "NaN detected in weights or bias. Stopping.\n",
      "NaN detected in weights or bias. Stopping.\n",
      "NaN detected in weights or bias. Stopping.\n",
      "Mini-Batch Test MSE: nan, Test MAE: nan\n"
     ]
    },
    {
     "name": "stderr",
     "output_type": "stream",
     "text": [
      "C:\\Users\\Zoe Oladokun\\AppData\\Local\\Temp\\ipykernel_21052\\2757695413.py:25: RuntimeWarning: invalid value encountered in subtract\n",
      "  w -= learning_rate * gradient_w\n"
     ]
    }
   ],
   "source": [
    "# Mini-batch gradient descent parameters\n",
    "batch_size = 32  # Size of each mini-batch\n",
    "num_batches = int(np.ceil(len(X_train) / batch_size))  # Use ceiling to include final batch\n",
    "\n",
    "# Initialize parameters\n",
    "w = np.zeros(X_train.shape[1])\n",
    "b = 0.0\n",
    "\n",
    "for _ in range(iterations):\n",
    "    for i in range(num_batches):\n",
    "        if np.isnan(w).any() or np.isnan(b):\n",
    "            print(\"NaN detected in weights or bias. Stopping.\")\n",
    "            break\n",
    "\n",
    "        start = i * batch_size\n",
    "        end = min((i + 1) * batch_size, len(X_train))\n",
    "        \n",
    "        X_batch = X_train[start:end]\n",
    "        y_batch = y_train[start:end]\n",
    "        \n",
    "        y_pred = X_batch.dot(w) + b\n",
    "        gradient_w = (2 / len(y_batch)) * X_batch.T.dot(y_pred - y_batch)\n",
    "        gradient_b = (2 / len(y_batch)) * np.sum(y_pred - y_batch)\n",
    "        \n",
    "        w -= learning_rate * gradient_w\n",
    "        b -= learning_rate * gradient_b\n",
    "\n",
    "\n",
    "# Evaluate the model\n",
    "y_test_pred = X_test.dot(w) + b\n",
    "mse_test = np.mean((y_test_pred - y_test) ** 2)\n",
    "mae_test = np.mean(np.abs(y_test_pred - y_test))\n",
    "\n",
    "print(f\"Mini-Batch Test MSE: {mse_test:.4f}, Test MAE: {mae_test:.4f}\")"
   ]
  },
  {
   "cell_type": "markdown",
   "id": "95554a38",
   "metadata": {},
   "source": [
    "### Compare with Scikit-learn's LinearRegression"
   ]
  },
  {
   "cell_type": "code",
   "execution_count": 52,
   "id": "d5b84914",
   "metadata": {},
   "outputs": [
    {
     "name": "stdout",
     "output_type": "stream",
     "text": [
      "Scikit-learn Test MSE: 1.2806, Test MAE: 0.8960\n"
     ]
    }
   ],
   "source": [
    "from sklearn.linear_model import LinearRegression\n",
    "\n",
    "# Fit the model using scikit-learn\n",
    "sklearn_model = LinearRegression()\n",
    "sklearn_model.fit(X_train, y_train)\n",
    "\n",
    "# Predictions and evaluation\n",
    "y_sklearn_pred = sklearn_model.predict(X_test)\n",
    "mse_sklearn = np.mean((y_sklearn_pred - y_test) ** 2)\n",
    "mae_sklearn = np.mean(np.abs(y_sklearn_pred - y_test))\n",
    "\n",
    "print(f\"Scikit-learn Test MSE: {mse_sklearn:.4f}, Test MAE: {mae_sklearn:.4f}\")"
   ]
  }
 ],
 "metadata": {
  "kernelspec": {
   "display_name": "base",
   "language": "python",
   "name": "python3"
  },
  "language_info": {
   "codemirror_mode": {
    "name": "ipython",
    "version": 3
   },
   "file_extension": ".py",
   "mimetype": "text/x-python",
   "name": "python",
   "nbconvert_exporter": "python",
   "pygments_lexer": "ipython3",
   "version": "3.12.7"
  }
 },
 "nbformat": 4,
 "nbformat_minor": 5
}
